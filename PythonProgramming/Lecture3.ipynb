{
 "cells": [
  {
   "cell_type": "code",
   "execution_count": 1,
   "id": "ac3b30d8",
   "metadata": {},
   "outputs": [
    {
     "name": "stdout",
     "output_type": "stream",
     "text": [
      "<class 'list'>\n",
      "[1]\n",
      "[1, 2]\n"
     ]
    }
   ],
   "source": [
    "# List : Data Satructure of Python Programming \n",
    "\n",
    "lst =[] # Black List\n",
    "print(type (lst))\n",
    "lst.append(1)  #Function : Method\n",
    "print(lst)\n",
    "lst.append(2)\n",
    "print(lst)"
   ]
  }
 ],
 "metadata": {
  "kernelspec": {
   "display_name": "Python 3",
   "language": "python",
   "name": "python3"
  },
  "language_info": {
   "codemirror_mode": {
    "name": "ipython",
    "version": 3
   },
   "file_extension": ".py",
   "mimetype": "text/x-python",
   "name": "python",
   "nbconvert_exporter": "python",
   "pygments_lexer": "ipython3",
   "version": "3.13.3"
  }
 },
 "nbformat": 4,
 "nbformat_minor": 5
}
