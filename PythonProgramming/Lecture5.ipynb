{
 "cells": [
  {
   "cell_type": "code",
   "execution_count": null,
   "id": "61acc079",
   "metadata": {},
   "outputs": [
    {
     "name": "stdout",
     "output_type": "stream",
     "text": [
      "*\n",
      "**\n",
      "***\n",
      "****\n",
      "*****\n",
      "******\n"
     ]
    }
   ],
   "source": [
    "'''\n",
    "*\n",
    "**\n",
    "***\n",
    "****\n",
    "*****\n",
    "******\n",
    "'''\n",
    "\n",
    "for i in range(1,7):\n",
    "    print(i *\"*\")"
   ]
  },
  {
   "cell_type": "code",
   "execution_count": 6,
   "id": "5babbe92",
   "metadata": {},
   "outputs": [
    {
     "data": {
      "text/plain": [
       "300"
      ]
     },
     "execution_count": 6,
     "metadata": {},
     "output_type": "execute_result"
    }
   ],
   "source": [
    "100+200"
   ]
  },
  {
   "cell_type": "code",
   "execution_count": 7,
   "id": "4eafb813",
   "metadata": {},
   "outputs": [
    {
     "data": {
      "text/plain": [
       "100"
      ]
     },
     "execution_count": 7,
     "metadata": {},
     "output_type": "execute_result"
    }
   ],
   "source": [
    "300-200"
   ]
  },
  {
   "cell_type": "code",
   "execution_count": 2,
   "id": "a190b840",
   "metadata": {},
   "outputs": [
    {
     "data": {
      "text/plain": [
       "50.0"
      ]
     },
     "execution_count": 2,
     "metadata": {},
     "output_type": "execute_result"
    }
   ],
   "source": [
    "# /:Answer will be in Float\n",
    "100/2\n"
   ]
  },
  {
   "cell_type": "code",
   "execution_count": 3,
   "id": "5644eb72",
   "metadata": {},
   "outputs": [
    {
     "data": {
      "text/plain": [
       "50"
      ]
     },
     "execution_count": 3,
     "metadata": {},
     "output_type": "execute_result"
    }
   ],
   "source": [
    "#//: Answer will be in int\n",
    "100//2"
   ]
  },
  {
   "cell_type": "code",
   "execution_count": 4,
   "id": "76994139",
   "metadata": {},
   "outputs": [
    {
     "data": {
      "text/plain": [
       "0"
      ]
     },
     "execution_count": 4,
     "metadata": {},
     "output_type": "execute_result"
    }
   ],
   "source": [
    "# Moduleo operator\n",
    "100%2"
   ]
  },
  {
   "cell_type": "code",
   "execution_count": 5,
   "id": "d0c8abe6",
   "metadata": {},
   "outputs": [
    {
     "data": {
      "text/plain": [
       "1"
      ]
     },
     "execution_count": 5,
     "metadata": {},
     "output_type": "execute_result"
    }
   ],
   "source": [
    "100%3"
   ]
  },
  {
   "cell_type": "code",
   "execution_count": 8,
   "id": "808bb36a",
   "metadata": {},
   "outputs": [
    {
     "name": "stdout",
     "output_type": "stream",
     "text": [
      "100\n",
      "2.0\n"
     ]
    }
   ],
   "source": [
    "# Exponent Operator : **\n",
    "\n",
    "print(10**2)\n",
    "print(4**0.5)"
   ]
  },
  {
   "cell_type": "code",
   "execution_count": 10,
   "id": "fe5f4b50",
   "metadata": {},
   "outputs": [
    {
     "data": {
      "text/plain": [
       "432"
      ]
     },
     "execution_count": 10,
     "metadata": {},
     "output_type": "execute_result"
    }
   ],
   "source": [
    "(10**2+345-23+(20//2))"
   ]
  },
  {
   "cell_type": "code",
   "execution_count": null,
   "id": "24155070",
   "metadata": {},
   "outputs": [
    {
     "name": "stdout",
     "output_type": "stream",
     "text": [
      "Entered Number in Even\n"
     ]
    }
   ],
   "source": [
    "''' \n",
    "Step1: Ask the user to enter the value\n",
    "Step2: Check whether the number is even or not\n",
    "'''\n",
    "a = float(input (\"Enter the Number\"))\n",
    "if a % 2 == 0:\n",
    "    print('Entered Number in Even')\n",
    "else:\n",
    "    print('Entered Number is Odd')"
   ]
  },
  {
   "cell_type": "code",
   "execution_count": 16,
   "id": "a123bdc2",
   "metadata": {},
   "outputs": [
    {
     "name": "stdout",
     "output_type": "stream",
     "text": [
      "hii\n",
      "world\n",
      "python\n"
     ]
    }
   ],
   "source": [
    "a = ['Hii','World','Python']\n",
    "for i in a:\n",
    "    print(i.lower())"
   ]
  }
 ],
 "metadata": {
  "kernelspec": {
   "display_name": "Python 3",
   "language": "python",
   "name": "python3"
  },
  "language_info": {
   "codemirror_mode": {
    "name": "ipython",
    "version": 3
   },
   "file_extension": ".py",
   "mimetype": "text/x-python",
   "name": "python",
   "nbconvert_exporter": "python",
   "pygments_lexer": "ipython3",
   "version": "3.13.3"
  }
 },
 "nbformat": 4,
 "nbformat_minor": 5
}
