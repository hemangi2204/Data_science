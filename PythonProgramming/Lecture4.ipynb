{
 "cells": [
  {
   "cell_type": "code",
   "execution_count": 1,
   "id": "09f8e141",
   "metadata": {},
   "outputs": [],
   "source": [
    "# Tuple: Data Structure of Python Programming\n",
    "# Tuple is Immutable whereas List is mutable\n",
    "\n",
    "tup = () #Define tuple : tup()\n",
    "tup = (1,2,3,4,5,6,7)\n",
    "tup = ('Hii','Hello','Bye','Welcome')\n",
    "tup = (1.11,2.222,3.43434)\n",
    "tup = (True,False)\n"
   ]
  },
  {
   "cell_type": "code",
   "execution_count": 2,
   "id": "95bf8f5c",
   "metadata": {},
   "outputs": [],
   "source": [
    "tup = (10,20,30,2.121,4343.232323,'Helloworld',True,False)"
   ]
  },
  {
   "cell_type": "code",
   "execution_count": 3,
   "id": "4e387317",
   "metadata": {},
   "outputs": [
    {
     "data": {
      "text/plain": [
       "1"
      ]
     },
     "execution_count": 3,
     "metadata": {},
     "output_type": "execute_result"
    }
   ],
   "source": [
    "tup.count(20)"
   ]
  },
  {
   "cell_type": "code",
   "execution_count": 4,
   "id": "1c02f62a",
   "metadata": {},
   "outputs": [
    {
     "data": {
      "text/plain": [
       "2"
      ]
     },
     "execution_count": 4,
     "metadata": {},
     "output_type": "execute_result"
    }
   ],
   "source": [
    "tup.index(30)"
   ]
  },
  {
   "cell_type": "code",
   "execution_count": null,
   "id": "c0b3dd1b",
   "metadata": {},
   "outputs": [
    {
     "name": "stdout",
     "output_type": "stream",
     "text": [
      "[600, 700]\n"
     ]
    }
   ],
   "source": [
    "# Using Concept of Indexing and Slicing\n",
    "tup = (100,200,(300,400,[500,600,700,800],1,2,3),4,5)\n",
    "print(tup[2][2][1:3])"
   ]
  },
  {
   "cell_type": "code",
   "execution_count": null,
   "id": "b3840a3e",
   "metadata": {},
   "outputs": [
    {
     "name": "stdout",
     "output_type": "stream",
     "text": [
      "{'Country': ['India', 'USA', 'UK'], 'GDP': [9, 6, 8]}\n"
     ]
    }
   ],
   "source": [
    "# Dictionary : Data Structure of Python Programming\n",
    "# Dictionary is Mutable in Nature\n",
    "'''\n",
    "dict = {'Key': Value}\n",
    "'''\n",
    "d = {'Country':['India','USA','UK'],\n",
    "     'GDP':[9,6,8]}\n",
    "\n",
    "print(d)"
   ]
  },
  {
   "cell_type": "code",
   "execution_count": 9,
   "id": "b24ac952",
   "metadata": {},
   "outputs": [
    {
     "data": {
      "text/plain": [
       "['India', 'USA', 'UK']"
      ]
     },
     "execution_count": 9,
     "metadata": {},
     "output_type": "execute_result"
    }
   ],
   "source": [
    "# Using Concept of Indexing\n",
    "d['Country']"
   ]
  },
  {
   "cell_type": "code",
   "execution_count": 10,
   "id": "480af81a",
   "metadata": {},
   "outputs": [
    {
     "data": {
      "text/plain": [
       "'USA'"
      ]
     },
     "execution_count": 10,
     "metadata": {},
     "output_type": "execute_result"
    }
   ],
   "source": [
    "d['Country'][1]"
   ]
  },
  {
   "cell_type": "code",
   "execution_count": 11,
   "id": "fc99014a",
   "metadata": {},
   "outputs": [
    {
     "data": {
      "text/plain": [
       "8"
      ]
     },
     "execution_count": 11,
     "metadata": {},
     "output_type": "execute_result"
    }
   ],
   "source": [
    "d['GDP'][2]"
   ]
  },
  {
   "cell_type": "code",
   "execution_count": 12,
   "id": "b7763dcc",
   "metadata": {},
   "outputs": [
    {
     "data": {
      "text/plain": [
       "[9, 6]"
      ]
     },
     "execution_count": 12,
     "metadata": {},
     "output_type": "execute_result"
    }
   ],
   "source": [
    "d['GDP'][:2]"
   ]
  },
  {
   "cell_type": "code",
   "execution_count": 13,
   "id": "267879ae",
   "metadata": {},
   "outputs": [
    {
     "data": {
      "text/plain": [
       "dict_keys(['Country', 'GDP'])"
      ]
     },
     "execution_count": 13,
     "metadata": {},
     "output_type": "execute_result"
    }
   ],
   "source": [
    "d.keys()"
   ]
  },
  {
   "cell_type": "code",
   "execution_count": 14,
   "id": "f2497262",
   "metadata": {},
   "outputs": [
    {
     "data": {
      "text/plain": [
       "dict_items([('Country', ['India', 'USA', 'UK']), ('GDP', [9, 6, 8])])"
      ]
     },
     "execution_count": 14,
     "metadata": {},
     "output_type": "execute_result"
    }
   ],
   "source": [
    "d.items()"
   ]
  },
  {
   "cell_type": "code",
   "execution_count": 15,
   "id": "21a25204",
   "metadata": {},
   "outputs": [
    {
     "data": {
      "text/plain": [
       "dict_values([['India', 'USA', 'UK'], [9, 6, 8]])"
      ]
     },
     "execution_count": 15,
     "metadata": {},
     "output_type": "execute_result"
    }
   ],
   "source": [
    "d.values()"
   ]
  },
  {
   "cell_type": "code",
   "execution_count": 16,
   "id": "ccd5f4b1",
   "metadata": {},
   "outputs": [],
   "source": [
    "d.clear()"
   ]
  },
  {
   "cell_type": "code",
   "execution_count": 17,
   "id": "b6c1df4d",
   "metadata": {},
   "outputs": [
    {
     "data": {
      "text/plain": [
       "{}"
      ]
     },
     "execution_count": 17,
     "metadata": {},
     "output_type": "execute_result"
    }
   ],
   "source": [
    "d"
   ]
  },
  {
   "cell_type": "code",
   "execution_count": null,
   "id": "5f8a2f38",
   "metadata": {},
   "outputs": [],
   "source": []
  }
 ],
 "metadata": {
  "kernelspec": {
   "display_name": "Python 3",
   "language": "python",
   "name": "python3"
  },
  "language_info": {
   "codemirror_mode": {
    "name": "ipython",
    "version": 3
   },
   "file_extension": ".py",
   "mimetype": "text/x-python",
   "name": "python",
   "nbconvert_exporter": "python",
   "pygments_lexer": "ipython3",
   "version": "3.13.3"
  }
 },
 "nbformat": 4,
 "nbformat_minor": 5
}
