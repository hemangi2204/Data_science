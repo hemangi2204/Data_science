{
 "cells": [
  {
   "cell_type": "code",
   "execution_count": 1,
   "id": "09f8e141",
   "metadata": {},
   "outputs": [],
   "source": [
    "# Tuple: Data Structure of Python Programming\n",
    "# Tuple is Immutable whereas List is mutable\n",
    "\n",
    "\n",
    "tup = () #Define tuple : tup()\n",
    "tup = (1,2,3,4,5,6,7)\n",
    "tup = ('Hii','Hello','Bye','Welcome')\n",
    "tup = (1.11,2.222,3.43434)\n",
    "tup = (True,False)\n"
   ]
  },
  {
   "cell_type": "code",
   "execution_count": 2,
   "id": "95bf8f5c",
   "metadata": {},
   "outputs": [],
   "source": [
    "tup = (10,20,30,2.121,4343.232323,'Helloworld',True,False)"
   ]
  },
  {
   "cell_type": "code",
   "execution_count": 3,
   "id": "4e387317",
   "metadata": {},
   "outputs": [
    {
     "data": {
      "text/plain": [
       "1"
      ]
     },
     "execution_count": 3,
     "metadata": {},
     "output_type": "execute_result"
    }
   ],
   "source": [
    "tup.count(20)"
   ]
  },
  {
   "cell_type": "code",
   "execution_count": 4,
   "id": "1c02f62a",
   "metadata": {},
   "outputs": [
    {
     "data": {
      "text/plain": [
       "2"
      ]
     },
     "execution_count": 4,
     "metadata": {},
     "output_type": "execute_result"
    }
   ],
   "source": [
    "tup.index(30)"
   ]
  },
  {
   "cell_type": "code",
   "execution_count": 5,
   "id": "c0b3dd1b",
   "metadata": {},
   "outputs": [
    {
     "name": "stdout",
     "output_type": "stream",
     "text": [
      "[600, 700]\n"
     ]
    }
   ],
   "source": [
    "# Using Concept of Indexing and Slicing\n",
    "tup = (100,200,(300,400,[500,600,700,800],1,2,3),4,5)\n",
    "print(tup[2][2][1:3])"
   ]
  },
  {
   "cell_type": "code",
   "execution_count": 6,
   "id": "b3840a3e",
   "metadata": {},
   "outputs": [
    {
     "name": "stdout",
     "output_type": "stream",
     "text": [
      "{'Country': ['India', 'USA', 'UK'], 'GDP': [9, 6, 8]}\n"
     ]
    }
   ],
   "source": [
    "# Dictionary : Data Structure of Python Programming\n",
    "# Dictionary is Mutable in Nature\n",
    "'''\n",
    "dict = {'Key': Value}\n",
    "'''\n",
    "d = {'Country':['India','USA','UK'],\n",
    "     'GDP':[9,6,8]}\n",
    "\n",
    "print(d)"
   ]
  },
  {
   "cell_type": "code",
   "execution_count": 7,
   "id": "b24ac952",
   "metadata": {},
   "outputs": [
    {
     "data": {
      "text/plain": [
       "['India', 'USA', 'UK']"
      ]
     },
     "execution_count": 7,
     "metadata": {},
     "output_type": "execute_result"
    }
   ],
   "source": [
    "# Using Concept of Indexing\n",
    "d['Country']"
   ]
  },
  {
   "cell_type": "code",
   "execution_count": 8,
   "id": "480af81a",
   "metadata": {},
   "outputs": [
    {
     "data": {
      "text/plain": [
       "'USA'"
      ]
     },
     "execution_count": 8,
     "metadata": {},
     "output_type": "execute_result"
    }
   ],
   "source": [
    "d['Country'][1]"
   ]
  },
  {
   "cell_type": "code",
   "execution_count": 9,
   "id": "fc99014a",
   "metadata": {},
   "outputs": [
    {
     "data": {
      "text/plain": [
       "8"
      ]
     },
     "execution_count": 9,
     "metadata": {},
     "output_type": "execute_result"
    }
   ],
   "source": [
    "d['GDP'][2]"
   ]
  },
  {
   "cell_type": "code",
   "execution_count": 10,
   "id": "b7763dcc",
   "metadata": {},
   "outputs": [
    {
     "data": {
      "text/plain": [
       "[9, 6]"
      ]
     },
     "execution_count": 10,
     "metadata": {},
     "output_type": "execute_result"
    }
   ],
   "source": [
    "d['GDP'][:2]"
   ]
  },
  {
   "cell_type": "code",
   "execution_count": 11,
   "id": "267879ae",
   "metadata": {},
   "outputs": [
    {
     "data": {
      "text/plain": [
       "dict_keys(['Country', 'GDP'])"
      ]
     },
     "execution_count": 11,
     "metadata": {},
     "output_type": "execute_result"
    }
   ],
   "source": [
    "d.keys()"
   ]
  },
  {
   "cell_type": "code",
   "execution_count": 12,
   "id": "f2497262",
   "metadata": {},
   "outputs": [
    {
     "data": {
      "text/plain": [
       "dict_items([('Country', ['India', 'USA', 'UK']), ('GDP', [9, 6, 8])])"
      ]
     },
     "execution_count": 12,
     "metadata": {},
     "output_type": "execute_result"
    }
   ],
   "source": [
    "d.items()"
   ]
  },
  {
   "cell_type": "code",
   "execution_count": 13,
   "id": "21a25204",
   "metadata": {},
   "outputs": [
    {
     "data": {
      "text/plain": [
       "dict_values([['India', 'USA', 'UK'], [9, 6, 8]])"
      ]
     },
     "execution_count": 13,
     "metadata": {},
     "output_type": "execute_result"
    }
   ],
   "source": [
    "d.values()"
   ]
  },
  {
   "cell_type": "code",
   "execution_count": 14,
   "id": "ccd5f4b1",
   "metadata": {},
   "outputs": [],
   "source": [
    "d.clear()"
   ]
  },
  {
   "cell_type": "code",
   "execution_count": 15,
   "id": "b6c1df4d",
   "metadata": {},
   "outputs": [
    {
     "data": {
      "text/plain": [
       "{}"
      ]
     },
     "execution_count": 15,
     "metadata": {},
     "output_type": "execute_result"
    }
   ],
   "source": [
    "d"
   ]
  },
  {
   "cell_type": "code",
   "execution_count": null,
   "id": "5f8a2f38",
   "metadata": {},
   "outputs": [
    {
     "name": "stdout",
     "output_type": "stream",
     "text": [
      "(1, 2, 3, 4, 5, 6, 7, 8)\n"
     ]
    }
   ],
   "source": [
    "a = tup1 = (1,2,3,4)\n",
    "b = tup2 = (5,6,7,8)\n",
    "print(tup1+tup2)\n",
    "\n",
    "\n"
   ]
  },
  {
   "cell_type": "code",
   "execution_count": 17,
   "id": "0c4503fd",
   "metadata": {},
   "outputs": [
    {
     "name": "stdout",
     "output_type": "stream",
     "text": [
      "(1, 2, 3, 4, 1, 2, 3, 4, 1, 2, 3, 4)\n"
     ]
    }
   ],
   "source": [
    "print(tup1*3)"
   ]
  },
  {
   "cell_type": "code",
   "execution_count": 18,
   "id": "0aacf2f9",
   "metadata": {},
   "outputs": [
    {
     "name": "stdout",
     "output_type": "stream",
     "text": [
      "0\n",
      "1\n",
      "2\n",
      "3\n",
      "4\n",
      "5\n",
      "6\n",
      "7\n",
      "8\n",
      "9\n"
     ]
    }
   ],
   "source": [
    "# loops\n",
    "for i in range(0,10):\n",
    "    print(i)"
   ]
  },
  {
   "cell_type": "code",
   "execution_count": 19,
   "id": "ea57f5ea",
   "metadata": {},
   "outputs": [
    {
     "name": "stdout",
     "output_type": "stream",
     "text": [
      "0 1 2 3 4 5 6 7 8 9 "
     ]
    }
   ],
   "source": [
    "# for horizonatal output\n",
    "for i in range(0,10):\n",
    "    print(i,end = ' ')"
   ]
  },
  {
   "cell_type": "code",
   "execution_count": 20,
   "id": "5af817cb",
   "metadata": {},
   "outputs": [
    {
     "name": "stdout",
     "output_type": "stream",
     "text": [
      "Hiii\n"
     ]
    }
   ],
   "source": [
    "#If Else Logic\n",
    "if True:\n",
    "    print('Hiii')\n",
    "else:\n",
    "    print('False')    "
   ]
  },
  {
   "cell_type": "code",
   "execution_count": 21,
   "id": "a7607128",
   "metadata": {},
   "outputs": [
    {
     "name": "stdout",
     "output_type": "stream",
     "text": [
      "Num is grater than 200\n"
     ]
    }
   ],
   "source": [
    "num = 1000\n",
    "if num <=200:\n",
    "    print('Num is less than 200')\n",
    "else:\n",
    "    print('Num is grater than 200')    "
   ]
  },
  {
   "cell_type": "code",
   "execution_count": 23,
   "id": "cf011264",
   "metadata": {},
   "outputs": [
    {
     "name": "stdout",
     "output_type": "stream",
     "text": [
      "Student is Bright.\n"
     ]
    }
   ],
   "source": [
    "marks = float(input('Enter the Marks:'))\n",
    "if marks >= 60:\n",
    "    print('Student is Bright.')\n",
    "else:\n",
    "    print('Student is weak.')"
   ]
  },
  {
   "cell_type": "code",
   "execution_count": null,
   "id": "7ede2545",
   "metadata": {},
   "outputs": [
    {
     "name": "stdout",
     "output_type": "stream",
     "text": [
      "Student is Bright.\n"
     ]
    }
   ],
   "source": [
    "'''\n",
    "Step1 : Enter the marks from User\n",
    "Step2 : Logic Building\n",
    "        80 >= Bright Student\n",
    "        60 and 79 : Good Student\n",
    "        40 and 59 : Average Student \n",
    "        below 40  : Weak Student\n",
    "\n",
    "'''\n",
    "marks = float(input('Enter the Marks:'))\n",
    "if marks >= 80:\n",
    "    print('Student is Bright.')\n",
    "elif marks >60 and marks >79:\n",
    "    print('Good Student.')\n",
    "elif marks >40 and marks < 59:\n",
    "    print('Average Student.')\n",
    "else:\n",
    "    print ('Weak Student')   "
   ]
  },
  {
   "cell_type": "code",
   "execution_count": null,
   "id": "bbd96999",
   "metadata": {},
   "outputs": [
    {
     "name": "stdout",
     "output_type": "stream",
     "text": [
      "The Entered String is Palindrom\n"
     ]
    }
   ],
   "source": [
    "# Print whether the given string is palindrome or not\n",
    "'''\n",
    "Step1 : Input a string from user \n",
    "Step2 :\n",
    "        string = Text \n",
    "        string = string [::-1]\n",
    "        if condition :\n",
    "        else: \n",
    "           conduction\n",
    "\n",
    "'''\n",
    "string = input('Enter the String: ')\n",
    "string1 = string[::-1]\n",
    "\n",
    "if string.lower() == string1.lower():\n",
    "    print('The Entered String is Palindrom')\n",
    "else:\n",
    "    print('The Entered String is not a Palindrom')\n",
    "\n"
   ]
  },
  {
   "cell_type": "code",
   "execution_count": null,
   "id": "1e3012cb",
   "metadata": {},
   "outputs": [
    {
     "data": {
      "text/plain": [
       "215.0"
      ]
     },
     "execution_count": 29,
     "metadata": {},
     "output_type": "execute_result"
    }
   ],
   "source": [
    "#PENDAS:P – Parentheses,E – Exponents,MD – Multiplication and Division (left to right),AS – Addition and Subtraction (left to right)\n",
    "\n",
    "(100*2+(30/2))"
   ]
  },
  {
   "cell_type": "code",
   "execution_count": null,
   "id": "3c9a4ad8",
   "metadata": {},
   "outputs": [
    {
     "data": {
      "text/plain": [
       "215"
      ]
     },
     "execution_count": 30,
     "metadata": {},
     "output_type": "execute_result"
    }
   ],
   "source": [
    "(100*2+(30//2))"
   ]
  },
  {
   "cell_type": "code",
   "execution_count": null,
   "id": "194320a7",
   "metadata": {},
   "outputs": [
    {
     "data": {
      "text/plain": [
       "400"
      ]
     },
     "execution_count": 31,
     "metadata": {},
     "output_type": "execute_result"
    }
   ],
   "source": [
    "20**2"
   ]
  },
  {
   "cell_type": "code",
   "execution_count": null,
   "id": "4991b9bf",
   "metadata": {},
   "outputs": [],
   "source": []
  }
 ],
 "metadata": {
  "kernelspec": {
   "display_name": "Python 3",
   "language": "python",
   "name": "python3"
  },
  "language_info": {
   "codemirror_mode": {
    "name": "ipython",
    "version": 3
   },
   "file_extension": ".py",
   "mimetype": "text/x-python",
   "name": "python",
   "nbconvert_exporter": "python",
   "pygments_lexer": "ipython3",
   "version": "3.13.3"
  }
 },
 "nbformat": 4,
 "nbformat_minor": 5
}
