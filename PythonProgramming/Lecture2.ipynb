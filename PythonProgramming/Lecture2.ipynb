{
 "cells": [
  {
   "cell_type": "code",
   "execution_count": 12,
   "id": "b531404e",
   "metadata": {},
   "outputs": [],
   "source": [
    "str = 'Hello World, Welcome to the World of Python Programming'"
   ]
  },
  {
   "cell_type": "code",
   "execution_count": 13,
   "id": "f3501626",
   "metadata": {},
   "outputs": [
    {
     "name": "stdout",
     "output_type": "stream",
     "text": [
      " \n"
     ]
    }
   ],
   "source": [
    "# Concept of Indexing\n",
    "\n",
    "print(str[5])"
   ]
  },
  {
   "cell_type": "code",
   "execution_count": 14,
   "id": "b299fd5a",
   "metadata": {},
   "outputs": [
    {
     "name": "stdout",
     "output_type": "stream",
     "text": [
      "r\n"
     ]
    }
   ],
   "source": [
    "print(str[8\n",
    "          ])"
   ]
  },
  {
   "cell_type": "code",
   "execution_count": 15,
   "id": "93c97599",
   "metadata": {},
   "outputs": [
    {
     "name": "stdout",
     "output_type": "stream",
     "text": [
      "m\n"
     ]
    }
   ],
   "source": [
    "print(str[-4])"
   ]
  },
  {
   "cell_type": "code",
   "execution_count": 16,
   "id": "b12f10b7",
   "metadata": {},
   "outputs": [
    {
     "name": "stdout",
     "output_type": "stream",
     "text": [
      "Hello World, Welcome to the World of Python Programming\n",
      "Hell\n",
      "am\n",
      "HloWrd ecm oteWrdo yhnPormig\n",
      "Hello World, Welcome to the World of Python Programming\n",
      "gnimmargorP nohtyP fo dlroW eht ot emocleW ,dlroW olleH\n"
     ]
    }
   ],
   "source": [
    "# Concept of Slicing\n",
    "'''\n",
    "str[start:stop:step]\n",
    "'''\n",
    "\n",
    "print(str[:])\n",
    "print(str[:4])\n",
    "print(str[-6:-4])\n",
    "print(str[::2])\n",
    "print(str[::])\n",
    "print(str[::-1])\n",
    "\n"
   ]
  },
  {
   "cell_type": "code",
   "execution_count": 17,
   "id": "b36a8003",
   "metadata": {},
   "outputs": [
    {
     "name": "stdout",
     "output_type": "stream",
     "text": [
      "<class 'str'>\n"
     ]
    }
   ],
   "source": [
    "print(type(str))\n"
   ]
  },
  {
   "cell_type": "code",
   "execution_count": null,
   "id": "84f0641d",
   "metadata": {},
   "outputs": [
    {
     "name": "stdout",
     "output_type": "stream",
     "text": [
      "HELLO WORLD\n",
      "hello world\n",
      "11\n"
     ]
    }
   ],
   "source": [
    "string = 'Hello World'\n",
    "\n",
    "print(string.upper())\n",
    "print(string.lower())\n",
    "print(len(string))"
   ]
  },
  {
   "cell_type": "code",
   "execution_count": 1,
   "id": "58c466d3",
   "metadata": {},
   "outputs": [
    {
     "name": "stdout",
     "output_type": "stream",
     "text": [
      "Idai ra o\n",
      "ia is great coun\n",
      "dir n\n"
     ]
    }
   ],
   "source": [
    "s = 'India is great country'\n",
    "print(s[:-5:2])\n",
    "print(s[3:-3])\n",
    "print(s[2:-2:4])"
   ]
  }
 ],
 "metadata": {
  "kernelspec": {
   "display_name": "Python 3",
   "language": "python",
   "name": "python3"
  },
  "language_info": {
   "codemirror_mode": {
    "name": "ipython",
    "version": 3
   },
   "file_extension": ".py",
   "mimetype": "text/x-python",
   "name": "python",
   "nbconvert_exporter": "python",
   "pygments_lexer": "ipython3",
   "version": "3.13.3"
  }
 },
 "nbformat": 4,
 "nbformat_minor": 5
}
