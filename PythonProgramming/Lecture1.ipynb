{
 "cells": [
  {
   "cell_type": "markdown",
   "id": "c624f765",
   "metadata": {},
   "source": [
    "Introduction"
   ]
  },
  {
   "cell_type": "code",
   "execution_count": 1,
   "id": "c92a8408",
   "metadata": {},
   "outputs": [
    {
     "data": {
      "text/plain": [
       "'num is variable\\ncomparison operator ==\\nstr = \"hello\"\\nboolean = True\\nboolean1 = False\\nwhat are the different types of data types\\nprint() is a function \\n#number becomes string if we put quotes \"num\" it will print as it is \\n@ int + string = error \\n@ srting + string = concat \\n@ string * int = the values will be multiply \\n@ string + int = will gives the \\n\\n'"
      ]
     },
     "execution_count": 1,
     "metadata": {},
     "output_type": "execute_result"
    }
   ],
   "source": [
    "# data types used in python programming \n",
    "''' \n",
    "1.Int: integer\n",
    "2.float: decimal values\n",
    "3.string: text information\n",
    "4. boolean: true or false \n",
    "'''\n",
    "# data type defination\n",
    "# = : assignment operator\n",
    "num = 100\n",
    "'''num is variable\n",
    "comparison operator ==\n",
    "str = \"hello\"\n",
    "boolean = True\n",
    "boolean1 = False\n",
    "what are the different types of data types\n",
    "print() is a function \n",
    "#number becomes string if we put quotes \"num\" it will print as it is \n",
    "@ int + string = error \n",
    "@ srting + string = concat \n",
    "@ string * int = the values will be multiply \n",
    "@ string + int = will gives the \n",
    "\n",
    "'''\n"
   ]
  },
  {
   "cell_type": "code",
   "execution_count": 5,
   "id": "3d032c2a",
   "metadata": {},
   "outputs": [
    {
     "name": "stdout",
     "output_type": "stream",
     "text": [
      "enter the first number :enter the secound number:\n"
     ]
    }
   ],
   "source": [
    "# input function\n",
    "num1 = input(\"enter the first number :\")\n",
    "num2 = input(\"enter the second number:\")\n",
    "print (num1 + num2)\n",
    "# whatver values you will put in input func it will give the string and concat\n",
    "\n"
   ]
  },
  {
   "cell_type": "code",
   "execution_count": 2,
   "id": "10459500",
   "metadata": {},
   "outputs": [
    {
     "name": "stdout",
     "output_type": "stream",
     "text": [
      "12345678\n"
     ]
    }
   ],
   "source": [
    "a= \"1234\"\n",
    "b = \"5678\"\n",
    "c = 10000\n",
    "print(a+b)\n"
   ]
  },
  {
   "cell_type": "code",
   "execution_count": 8,
   "id": "4ba665fb",
   "metadata": {},
   "outputs": [
    {
     "name": "stdout",
     "output_type": "stream",
     "text": [
      "300\n"
     ]
    }
   ],
   "source": [
    "# input function\n",
    "# use type casting string to integer \n",
    "# float can accept int and float as well but int can't be accept float.\n",
    "num1 = int(input(\"enter the first number :\"))\n",
    "num2 =int (input(\"enter the second number:\"))\n",
    "print (num1 + num2)"
   ]
  },
  {
   "cell_type": "code",
   "execution_count": 9,
   "id": "55e3c1c7",
   "metadata": {},
   "outputs": [
    {
     "name": "stdout",
     "output_type": "stream",
     "text": [
      "the entered name of the person is Hemangi having age is 22.0\n"
     ]
    }
   ],
   "source": [
    "# f string method\n",
    "name = input(\"enter the name:\")\n",
    "age = float(input(\"enter the age in years:\"))\n",
    "\n",
    "print (f\"the entered name of the person is {name} having age is {age}\")"
   ]
  },
  {
   "cell_type": "code",
   "execution_count": 12,
   "id": "b2e8783f",
   "metadata": {},
   "outputs": [
    {
     "name": "stdout",
     "output_type": "stream",
     "text": [
      "The Multipacation of Two Number as 2.0 and 100.0 is  200.0\n",
      "The Multipacation of Two Number as 2.0 and 100.0 is 200.0\n"
     ]
    }
   ],
   "source": [
    "# ask the 2 value of num1\n",
    "num1 = float(input('Enter the first Number: '))\n",
    "num2 = float(input('Enter the secound Number; '))\n",
    "num3 = num1 * num2\n",
    "\n",
    "print(f'The Multipacation of Two Number as {num1} and {num2} is ',num3)\n",
    "print(f'The Multipacation of Two Number as {num1} and {num2} is {num3}')"
   ]
  }
 ],
 "metadata": {
  "kernelspec": {
   "display_name": "Python 3",
   "language": "python",
   "name": "python3"
  },
  "language_info": {
   "codemirror_mode": {
    "name": "ipython",
    "version": 3
   },
   "file_extension": ".py",
   "mimetype": "text/x-python",
   "name": "python",
   "nbconvert_exporter": "python",
   "pygments_lexer": "ipython3",
   "version": "3.13.3"
  }
 },
 "nbformat": 4,
 "nbformat_minor": 5
}
